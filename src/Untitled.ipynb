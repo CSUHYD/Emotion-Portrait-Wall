{
 "cells": [
  {
   "cell_type": "code",
   "execution_count": null,
   "metadata": {},
   "outputs": [],
   "source": [
    "# -*- coding: utf-8 -*-\n",
    "from PIL import Image\n",
    "import os, sys\n",
    "\n",
    "save_image_name = \"../images/New.png\"\n",
    "raw_name = \"../images/raw.bmp\"\n",
    "res_file = \"../images\"  # 资源照片路径\n",
    "mw = 100  # 单个照片的尺寸"
   ]
  },
  {
   "cell_type": "code",
   "execution_count": null,
   "metadata": {},
   "outputs": [],
   "source": [
    "def load_raw(raw_name, data_list, _size):\n",
    "    im = Image.open(raw_name)\n",
    "    w, h = im.size\n",
    "\n",
    "    for i in range(w):\n",
    "        for j in range(h):\n",
    "            v = im.getpixel((i, j))\n",
    "            if v != 0:\n",
    "                # 将灰度图的像素映射到照片墙的坐标内\n",
    "                x = int(i * _size[0] / w)\n",
    "                y = int(j * _size[1] / h)\n",
    "                data_list[x][y] = 1"
   ]
  },
  {
   "cell_type": "code",
   "execution_count": null,
   "metadata": {},
   "outputs": [],
   "source": [
    "def get_picture_list(picture_list):\n",
    "    for filename in os.listdir(res_file):\n",
    "        filepath = os.path.join(res_file, filename)\n",
    "        picture_list.append(filepath)\n",
    "\n",
    "# 绘制一张照片到指定位置\n",
    "def draw_picture(save_image, x, y, im_name):\n",
    "    in_image = Image.open(im_name)\n",
    "    # Image.ANTIALIA 抗锯齿\n",
    "    in_image = in_image.resize((mw, mw), Image.ANTIALIAS)\n",
    "    save_image.paste(in_image, ((x - 1) * mw, (y - 1) * mw))"
   ]
  },
  {
   "cell_type": "code",
   "execution_count": null,
   "metadata": {},
   "outputs": [],
   "source": [
    "# 照片墙能容纳的最大照片数量 20 * 20\n",
    "w, h = (5, 5)\n",
    "data_list = [[0 for col in range(h)] for row in range(w)]\n",
    "# 加载灰度图, 照片墙样式\n",
    "load_raw(raw_name, data_list, (w, h))\n",
    "# 创建一张新的照片\n",
    "save_image = Image.new('RGBA', (mw * w, mw * h))\n",
    "\n",
    "# 获取所有照片路径名称\n",
    "picture_list = []\n",
    "get_picture_list(picture_list)\n",
    "pos = 0\n",
    "print(len(picture_list))"
   ]
  },
  {
   "cell_type": "code",
   "execution_count": null,
   "metadata": {},
   "outputs": [],
   "source": [
    "data_list"
   ]
  },
  {
   "cell_type": "code",
   "execution_count": null,
   "metadata": {},
   "outputs": [],
   "source": [
    "# 按照样式, 缩放绘制照片到指定位置\n",
    "for i in range(w):\n",
    "    for j in range(h):\n",
    "        if data_list[i][j] > 0:\n",
    "            draw_picture(save_image, i, j, picture_list[pos])\n",
    "            print(i, j)\n",
    "            pos += 1\n",
    "            pos = pos % len(picture_list)\n",
    "\n",
    "# 保存\n",
    "save_image.show()\n",
    "save_image.save(save_image_name)"
   ]
  },
  {
   "cell_type": "code",
   "execution_count": null,
   "metadata": {},
   "outputs": [],
   "source": []
  }
 ],
 "metadata": {
  "kernelspec": {
   "display_name": "py36",
   "language": "python",
   "name": "py36"
  },
  "language_info": {
   "codemirror_mode": {
    "name": "ipython",
    "version": 3
   },
   "file_extension": ".py",
   "mimetype": "text/x-python",
   "name": "python",
   "nbconvert_exporter": "python",
   "pygments_lexer": "ipython3",
   "version": "3.6.0"
  }
 },
 "nbformat": 4,
 "nbformat_minor": 2
}
